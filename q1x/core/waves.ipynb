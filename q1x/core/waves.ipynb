{
 "cells": [
  {
   "cell_type": "code",
   "id": "initial_id",
   "metadata": {
    "collapsed": true,
    "ExecuteTime": {
     "end_time": "2025-08-05T04:38:20.689065Z",
     "start_time": "2025-08-05T04:38:20.577264Z"
    }
   },
   "source": [
    "%reload_ext autoreload\n",
    "%autoreload 2\n",
    "from waves import *\n",
    "\n",
    "arr1 = [3, 1, 2, 4, 1, 5, 2, 6]\n",
    "arr2 = [1, 2, 2, 3, 2, 4]\n",
    "arr3 = [1, 9, 1, 5, 3, 4, 2, 7, 4, 6, 2, 9, 4]\n",
    "\n",
    "print(filter_sequence(arr1))  # 输出: [3, 4, 5, 6]\n",
    "print(filter_sequence(arr2, '>'))  # 输出: [1]\n",
    "print(filter_sequence(arr3, '<'))  # 输出: [1, 9]\n",
    "print(filter_sequence(arr3))  # 输出: [1, 9, 9]"
   ],
   "outputs": [
    {
     "name": "stdout",
     "output_type": "stream",
     "text": [
      "[3, 4, 5, 6]\n",
      "[1]\n",
      "[1, 9]\n",
      "[1, 9, 9]\n"
     ]
    }
   ],
   "execution_count": 7
  },
  {
   "metadata": {
    "ExecuteTime": {
     "end_time": "2025-08-05T04:44:19.588310Z",
     "start_time": "2025-08-05T04:44:19.446240Z"
    }
   },
   "cell_type": "code",
   "source": [
    "%reload_ext autoreload\n",
    "%autoreload 2\n",
    "from waves import *\n",
    "\n",
    "arr1 = [3, 1, 2, 4, 1, 5, 2, 6]\n",
    "arr2 = [1, 2, 2, 3, 2, 4]\n",
    "arr3 = [1, 9, 1, 5, 3, 4, 2, 7, 4, 6, 2, 9, 4]\n",
    "\n",
    "print(filter_sequence_with_indices(arr1))  # 输出: ([3, 4, 5, 6], [0, 3, 5, 7])\n",
    "print(filter_sequence_with_indices(arr2, '>'))  # 输出: ([1], [0])\n",
    "print(filter_sequence_with_indices(arr3, '<'))  # 输出: ([1, 9], [0, 1])\n",
    "print(filter_sequence_with_indices(arr3))  # 输出: ([1, 9, 9], [0, 1, 11])"
   ],
   "id": "5d12aa43353d7858",
   "outputs": [
    {
     "name": "stdout",
     "output_type": "stream",
     "text": [
      "([3, 4, 5, 6], [0, 3, 5, 7])\n",
      "([1], [0])\n",
      "([1, 9], [0, 1])\n",
      "([1, 9, 9], [0, 1, 11])\n"
     ]
    }
   ],
   "execution_count": 9
  },
  {
   "metadata": {
    "ExecuteTime": {
     "end_time": "2025-08-06T06:13:55.716683Z",
     "start_time": "2025-08-06T06:13:55.591604Z"
    }
   },
   "cell_type": "code",
   "source": [
    "%reload_ext autoreload\n",
    "%autoreload 2\n",
    "from waves import *\n",
    "arr1 = [3, 2, 1, 2, 3, 2, 1, 4, 3, 2, 5]\n",
    "print(find_monotonic_extremes(arr1, 'left', 'peak'))\n",
    "print(find_monotonic_extremes(arr1, 'left', 'valley'))\n",
    "print(find_monotonic_extremes(arr1, 'right', 'peak'))\n",
    "print(find_monotonic_peaks_around_max(arr1))\n",
    "print(find_monotonic_valleys_around_min(arr1))\n",
    "high_list = [1, 10, 2, 6, 4, 5, 3, 8, 5, 7, 3, 10, 5]\n",
    "low_list = [0, 8, 0, 4, 2, 3, 1, 6, 3, 5, 1, 8, 3]\n",
    "print(detect_peaks_and_valleys(high_list, low_list))"
   ],
   "id": "bfc5ec961fd5ba78",
   "outputs": [
    {
     "name": "stdout",
     "output_type": "stream",
     "text": [
      "[0, 7, 10]\n",
      "[2]\n",
      "[10]\n",
      "[0, 7, 10]\n",
      "[2, 6, 9]\n",
      "([1, 11], [0, 2, 12])\n"
     ]
    }
   ],
   "execution_count": 8
  }
 ],
 "metadata": {
  "kernelspec": {
   "display_name": "Python 3",
   "language": "python",
   "name": "python3"
  },
  "language_info": {
   "codemirror_mode": {
    "name": "ipython",
    "version": 2
   },
   "file_extension": ".py",
   "mimetype": "text/x-python",
   "name": "python",
   "nbconvert_exporter": "python",
   "pygments_lexer": "ipython2",
   "version": "2.7.6"
  }
 },
 "nbformat": 4,
 "nbformat_minor": 5
}
