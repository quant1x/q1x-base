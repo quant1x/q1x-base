{
 "cells": [
  {
   "cell_type": "code",
   "id": "initial_id",
   "metadata": {
    "collapsed": true,
    "ExecuteTime": {
     "end_time": "2025-06-21T02:35:41.561048Z",
     "start_time": "2025-06-21T02:35:41.556309Z"
    }
   },
   "source": [
    "from dateutil import parser\n",
    "\n",
    "def convert_to_yyyymmdd(date_str):\n",
    "    dt = parser.parse(date_str)  # 自动识别各种常见日期格式\n",
    "    return dt.strftime('%Y%m%d')  # 输出为 YYYYMMDD\n",
    "\n",
    "# 示例\n",
    "print(convert_to_yyyymmdd(\"2025-04-05\"))         # 20250405\n",
    "print(convert_to_yyyymmdd(\"05/04/2025\"))         # 20250405（注意：默认是月/日/年）\n",
    "print(convert_to_yyyymmdd(\"20250405\"))           # 20250405\n",
    "print(convert_to_yyyymmdd(\"Apr 05 2025\"))        # 20250405\n",
    "#print(convert_to_yyyymmdd(\"2025年4月5日\"))       # 20250405"
   ],
   "outputs": [
    {
     "name": "stdout",
     "output_type": "stream",
     "text": [
      "20250405\n",
      "20250504\n",
      "20250405\n",
      "20250405\n"
     ]
    }
   ],
   "execution_count": 2
  }
 ],
 "metadata": {
  "kernelspec": {
   "display_name": "Python 3",
   "language": "python",
   "name": "python3"
  },
  "language_info": {
   "codemirror_mode": {
    "name": "ipython",
    "version": 2
   },
   "file_extension": ".py",
   "mimetype": "text/x-python",
   "name": "python",
   "nbconvert_exporter": "python",
   "pygments_lexer": "ipython2",
   "version": "2.7.6"
  }
 },
 "nbformat": 4,
 "nbformat_minor": 5
}
